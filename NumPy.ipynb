{
 "cells": [
  {
   "cell_type": "code",
   "execution_count": 17,
   "metadata": {},
   "outputs": [
    {
     "name": "stdout",
     "output_type": "stream",
     "text": [
      "1\n"
     ]
    }
   ],
   "source": [
    "import numpy as np\n",
    "\n",
    "np.random.seed(0)\n",
    "\n",
    "x = np.random.randint(10, size = (3,4,5))\n",
    "print(x[1,3,4])"
   ]
  },
  {
   "cell_type": "code",
   "execution_count": 18,
   "metadata": {},
   "outputs": [
    {
     "name": "stdout",
     "output_type": "stream",
     "text": [
      "[[[0 3 5]\n",
      "  [3 8 1]]]\n"
     ]
    }
   ],
   "source": [
    "import numpy as np\n",
    "\n",
    "np.random.seed(0)\n",
    "\n",
    "x = np.random.randint(10, size = (3,4,5))\n",
    "print(x[1:2, 1:3, 1:4])"
   ]
  },
  {
   "cell_type": "code",
   "execution_count": 38,
   "metadata": {},
   "outputs": [
    {
     "name": "stdout",
     "output_type": "stream",
     "text": [
      "[1 1 1], [-1], -1\n",
      "[1 1 3], [-1], -1\n",
      "[1 2 1], [-1], -1\n",
      "[1 3 2], [-1], -1\n",
      "[1 5 3], [1], 1\n",
      "[1 6 3], [1], 1\n",
      "[1 6 5], [1], 1\n",
      "[1 7 2], [1], 1\n"
     ]
    }
   ],
   "source": [
    "import numpy as np\n",
    "\n",
    "def predict(w, x_i):\n",
    "    answer = np.tensordot(w, x_i, axes=1)\n",
    "    if answer > 0:\n",
    "        answer = +1\n",
    "    elif answer < 0:\n",
    "        answer = -1\n",
    "    return answer\n",
    "\n",
    "def learn(w, x, y):\n",
    "    is_error_there = True\n",
    "    while is_error_there:\n",
    "        is_error_there = False\n",
    "        for x_i, y_i in zip(x, y):\n",
    "            answer = predict(w, x_i)\n",
    "            if answer != y_i:\n",
    "                w = np.add(w, x_i*y_i)\n",
    "                is_error_there = True\n",
    "    return w\n",
    "\n",
    "x = np.array([[1, 1], [1, 3], [2, 1], [3, 2], [5, 3], [6, 3], [6, 5], [7, 2]])\n",
    "b = np.ones((x.shape[0], 1), dtype=\"int\") #bias dimension\n",
    "x = np.concatenate([b, x], axis=1)\n",
    "y = np.array([-1, -1, -1, -1, 1, 1, 1, 1])\n",
    "y = y.reshape((x.shape[0], 1))\n",
    "w = np.random.random(x.shape[1])\n",
    "\n",
    "# y = [-1, -1, -1, -1, 1, 1, 1, 1]\n",
    "# w = [ ]\n",
    "# for i in range(0, len(x[0])+1):\n",
    "#     w_i = random.uniform(0, 1)\n",
    "#     w.append(w_i)\n",
    "\n",
    "w = learn(w, x, y)\n",
    "    \n",
    "for x_i, y_i in zip(x, y):\n",
    "    answer = predict(w, x_i)\n",
    "    print(x_i, end=\", \")\n",
    "    print(y_i, end=\", \")\n",
    "    print(answer)\n",
    "    \n",
    "# a = [\"a\", \"b\", \"c\"]\n",
    "# b = [1, 2, 3]\n",
    "# for c, d in zip(a, b):\n",
    "#     print(c)\n",
    "#     print(d)\n",
    "#     print(\"-----------\")"
   ]
  },
  {
   "cell_type": "code",
   "execution_count": null,
   "metadata": {},
   "outputs": [],
   "source": []
  }
 ],
 "metadata": {
  "kernelspec": {
   "display_name": "Python 3",
   "language": "python",
   "name": "python3"
  },
  "language_info": {
   "codemirror_mode": {
    "name": "ipython",
    "version": 3
   },
   "file_extension": ".py",
   "mimetype": "text/x-python",
   "name": "python",
   "nbconvert_exporter": "python",
   "pygments_lexer": "ipython3",
   "version": "3.7.3"
  }
 },
 "nbformat": 4,
 "nbformat_minor": 2
}
