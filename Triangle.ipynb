{
 "cells": [
  {
   "cell_type": "code",
   "execution_count": 2,
   "metadata": {},
   "outputs": [
    {
     "name": "stdout",
     "output_type": "stream",
     "text": [
      "\n",
      "           *   \n",
      "  *       ***  \n",
      " ***  *  ***** \n",
      "***************\n",
      "\n"
     ]
    }
   ],
   "source": [
    "##python triangle\n",
    "\n",
    "list = [5, 3, 7]\n",
    "size = max(list)\n",
    "row = int(size/2)+1\n",
    "figure = len(list)\n",
    "result = \"\"\n",
    "\n",
    "print(result)\n",
    "for r_row in range(row-1,-1,-1):\n",
    "   for r_size in range(figure):\n",
    "       rowsize = list[r_size]\n",
    "       for r_column in range(rowsize):\n",
    "           if r_row <= r_column and r_row + r_column <= rowsize-1:\n",
    "               print(\"*\",end='')\n",
    "           else:\n",
    "               print(' ',end='')\n",
    "   print()\n",
    "print(result)\n"
   ]
  },
  {
   "cell_type": "code",
   "execution_count": null,
   "metadata": {},
   "outputs": [],
   "source": []
  }
 ],
 "metadata": {
  "kernelspec": {
   "display_name": "Python 3",
   "language": "python",
   "name": "python3"
  },
  "language_info": {
   "codemirror_mode": {
    "name": "ipython",
    "version": 3
   },
   "file_extension": ".py",
   "mimetype": "text/x-python",
   "name": "python",
   "nbconvert_exporter": "python",
   "pygments_lexer": "ipython3",
   "version": "3.7.3"
  }
 },
 "nbformat": 4,
 "nbformat_minor": 2
}
